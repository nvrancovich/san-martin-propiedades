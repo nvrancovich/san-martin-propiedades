{
 "cells": [
  {
   "cell_type": "code",
   "execution_count": 3,
   "id": "4b59a8c2",
   "metadata": {},
   "outputs": [],
   "source": [
    "from selenium import webdriver\n",
    "from selenium.webdriver.chrome.service import Service\n",
    "from webdriver_manager.chrome import ChromeDriverManager\n",
    "from selenium.webdriver.common.by import By\n",
    "from IPython.display import clear_output"
   ]
  },
  {
   "cell_type": "markdown",
   "id": "80cd377a",
   "metadata": {},
   "source": [
    "Al hacer la búsqueda y filtrar los tipos de propiedades a departamentos, casas y phs, me dí cuenta de que lo unico que variaba entre las páginas es el número al final, entonces hice una lista para luego iterarlos uno por uno y extraer los links a las 20 propiedades individuales que hay dentro de cada página."
   ]
  },
  {
   "cell_type": "code",
   "execution_count": 5,
   "id": "9bb47882",
   "metadata": {},
   "outputs": [],
   "source": [
    "urls_pages = []\n",
    "for e in range(1, 406):\n",
    "    urls_pages.append(f'https://www.argenprop.com/departamento-y-casa-y-ph-venta-partido-general-san-martin-pagina-{e}')"
   ]
  },
  {
   "cell_type": "markdown",
   "id": "ba643051",
   "metadata": {},
   "source": [
    "Como la primera vez que lo intente con la lista completa mi computadora dejo de responder a la mitad. Decidí separarlo en 4 chunks y comenzar todo el proceso de vuelta en cada chunk y no acumular excesiva memoria (No estoy seguro si esto tuvo mucho sentido pero finalmente funcionó)."
   ]
  },
  {
   "cell_type": "code",
   "execution_count": 15,
   "id": "e4e78c10",
   "metadata": {},
   "outputs": [],
   "source": [
    "chunks = (urls_pages[:100],urls_pages[100:200], urls_pages[200:300], urls_pages[300:405])"
   ]
  },
  {
   "cell_type": "code",
   "execution_count": 19,
   "id": "65029516",
   "metadata": {
    "scrolled": true
   },
   "outputs": [
    {
     "name": "stdout",
     "output_type": "stream",
     "text": [
      "Chunk número 4 de 4\n",
      "Página número 105 extraída (100.0%)\n"
     ]
    }
   ],
   "source": [
    "urls_global = []\n",
    "\n",
    "for urls_pages in chunks:\n",
    "    driver = webdriver.Chrome(service=Service(ChromeDriverManager().install()))\n",
    "    clear_output(wait=False)\n",
    "    for url in urls_pages:\n",
    "        driver.get(url)\n",
    "        element = driver.find_element(By.CLASS_NAME ,'listing-container')\n",
    "        elements = element.find_elements(By.CLASS_NAME, 'listing__item ')\n",
    "        urls_local = []\n",
    "        for e in elements:\n",
    "            urls_local.append(e.find_element(By.ID, f'id-card-{elements.index(e) + 1}').get_attribute('href'))\n",
    "        urls_global = urls_global + urls_local\n",
    "        clear_output(wait=True)\n",
    "        print(f'Chunk número {(chunks.index(urls_pages)) + 1} de {len(chunks)}')\n",
    "        print(f'Página número {urls_pages.index(url) + 1} extraída ({((urls_pages.index(url) + 1)/len(urls_pages))*100}%)')\n",
    "    driver.close()"
   ]
  },
  {
   "cell_type": "code",
   "execution_count": 20,
   "id": "d850c058",
   "metadata": {},
   "outputs": [
    {
     "data": {
      "text/plain": [
       "8100"
      ]
     },
     "execution_count": 20,
     "metadata": {},
     "output_type": "execute_result"
    }
   ],
   "source": [
    "len(urls_global)"
   ]
  },
  {
   "cell_type": "markdown",
   "id": "fabfc02d",
   "metadata": {},
   "source": [
    "Finalmente tras extraer la url de las viviendas en venta en San Martín, proceso que duro aproximadamente 40 minutos, pasé la lista a un DataFrame de pandas para luego guardarlo como un archivo csv."
   ]
  },
  {
   "cell_type": "code",
   "execution_count": 21,
   "id": "040db569",
   "metadata": {},
   "outputs": [],
   "source": [
    "import pandas as pd"
   ]
  },
  {
   "cell_type": "code",
   "execution_count": 24,
   "id": "bbc8fded",
   "metadata": {},
   "outputs": [],
   "source": [
    "df = pd.DataFrame(urls_global)"
   ]
  },
  {
   "cell_type": "code",
   "execution_count": 25,
   "id": "5ca391c3",
   "metadata": {},
   "outputs": [],
   "source": [
    "df.to_csv('urls_propiedades_en_venta_san_martin_argenprop.csv')"
   ]
  },
  {
   "cell_type": "code",
   "execution_count": 28,
   "id": "e338541f",
   "metadata": {},
   "outputs": [
    {
     "data": {
      "text/html": [
       "<div>\n",
       "<style scoped>\n",
       "    .dataframe tbody tr th:only-of-type {\n",
       "        vertical-align: middle;\n",
       "    }\n",
       "\n",
       "    .dataframe tbody tr th {\n",
       "        vertical-align: top;\n",
       "    }\n",
       "\n",
       "    .dataframe thead th {\n",
       "        text-align: right;\n",
       "    }\n",
       "</style>\n",
       "<table border=\"1\" class=\"dataframe\">\n",
       "  <thead>\n",
       "    <tr style=\"text-align: right;\">\n",
       "      <th></th>\n",
       "      <th>0</th>\n",
       "    </tr>\n",
       "  </thead>\n",
       "  <tbody>\n",
       "    <tr>\n",
       "      <th>0</th>\n",
       "      <td>https://www.argenprop.com/departamento-en-vent...</td>\n",
       "    </tr>\n",
       "    <tr>\n",
       "      <th>1</th>\n",
       "      <td>https://www.argenprop.com/departamento-en-vent...</td>\n",
       "    </tr>\n",
       "    <tr>\n",
       "      <th>2</th>\n",
       "      <td>https://www.argenprop.com/departamento-en-vent...</td>\n",
       "    </tr>\n",
       "    <tr>\n",
       "      <th>3</th>\n",
       "      <td>https://www.argenprop.com/departamento-en-vent...</td>\n",
       "    </tr>\n",
       "    <tr>\n",
       "      <th>4</th>\n",
       "      <td>https://www.argenprop.com/departamento-en-vent...</td>\n",
       "    </tr>\n",
       "    <tr>\n",
       "      <th>...</th>\n",
       "      <td>...</td>\n",
       "    </tr>\n",
       "    <tr>\n",
       "      <th>8095</th>\n",
       "      <td>https://www.argenprop.com/departamento-en-vent...</td>\n",
       "    </tr>\n",
       "    <tr>\n",
       "      <th>8096</th>\n",
       "      <td>https://www.argenprop.com/departamento-en-vent...</td>\n",
       "    </tr>\n",
       "    <tr>\n",
       "      <th>8097</th>\n",
       "      <td>https://www.argenprop.com/departamento-en-vent...</td>\n",
       "    </tr>\n",
       "    <tr>\n",
       "      <th>8098</th>\n",
       "      <td>https://www.argenprop.com/departamento-en-vent...</td>\n",
       "    </tr>\n",
       "    <tr>\n",
       "      <th>8099</th>\n",
       "      <td>https://www.argenprop.com/departamento-en-vent...</td>\n",
       "    </tr>\n",
       "  </tbody>\n",
       "</table>\n",
       "<p>8100 rows × 1 columns</p>\n",
       "</div>"
      ],
      "text/plain": [
       "                                                      0\n",
       "0     https://www.argenprop.com/departamento-en-vent...\n",
       "1     https://www.argenprop.com/departamento-en-vent...\n",
       "2     https://www.argenprop.com/departamento-en-vent...\n",
       "3     https://www.argenprop.com/departamento-en-vent...\n",
       "4     https://www.argenprop.com/departamento-en-vent...\n",
       "...                                                 ...\n",
       "8095  https://www.argenprop.com/departamento-en-vent...\n",
       "8096  https://www.argenprop.com/departamento-en-vent...\n",
       "8097  https://www.argenprop.com/departamento-en-vent...\n",
       "8098  https://www.argenprop.com/departamento-en-vent...\n",
       "8099  https://www.argenprop.com/departamento-en-vent...\n",
       "\n",
       "[8100 rows x 1 columns]"
      ]
     },
     "execution_count": 28,
     "metadata": {},
     "output_type": "execute_result"
    }
   ],
   "source": [
    "df"
   ]
  }
 ],
 "metadata": {
  "kernelspec": {
   "display_name": "Python 3 (ipykernel)",
   "language": "python",
   "name": "python3"
  },
  "language_info": {
   "codemirror_mode": {
    "name": "ipython",
    "version": 3
   },
   "file_extension": ".py",
   "mimetype": "text/x-python",
   "name": "python",
   "nbconvert_exporter": "python",
   "pygments_lexer": "ipython3",
   "version": "3.8.10"
  }
 },
 "nbformat": 4,
 "nbformat_minor": 5
}
